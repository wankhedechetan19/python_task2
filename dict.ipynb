{
 "cells": [
  {
   "cell_type": "code",
   "execution_count": null,
   "id": "8f14220a",
   "metadata": {},
   "outputs": [
    {
     "name": "stdout",
     "output_type": "stream",
     "text": [
      "{'name': 'ÄRC', 'subject': 'pyhon'}\n",
      "name: ÄRC\n"
     ]
    }
   ],
   "source": [
    "d2 = {\"name\" : \"ÄRC\", \"subject\" : \"pyhon\"}\n",
    "\n",
    "print(d2)\n",
    "print(f\"name: {d2['name']}\")"
   ]
  },
  {
   "cell_type": "code",
   "execution_count": 8,
   "id": "e0cc1c3c",
   "metadata": {},
   "outputs": [
    {
     "name": "stdout",
     "output_type": "stream",
     "text": [
      "time: 7.3\n",
      "isclassname: ARC20\n",
      "fromschoolname: nutanclg\n",
      "incity: nagpur\n",
      "instate: MH\n",
      "incountry: India\n"
     ]
    }
   ],
   "source": [
    "d3 = {\n",
    "    \"time\" : 7.30,\n",
    "    \"classname\": \"ARC20\",\n",
    "    \"schoolname\": \"nutanclg\",\n",
    "    \"city\": \"nagpur\",\n",
    "    \"state\": \"MH\",\n",
    "    \"country\": \"India\"\n",
    "    }\n",
    "print(\"time:\", d3[\"time\"])\n",
    "print(\"isclassname:\", d3[\"classname\"])\n",
    "print(\"fromschoolname:\", d3[\"schoolname\"])\n",
    "print(\"incity:\", d3[\"city\"])\n",
    "print(\"instate:\", d3[\"state\"])\n",
    "print(\"incountry:\", d3[\"country\"])"
   ]
  },
  {
   "cell_type": "code",
   "execution_count": 4,
   "id": "9a997979",
   "metadata": {},
   "outputs": [
    {
     "name": "stdout",
     "output_type": "stream",
     "text": [
      "time= 7.3\n",
      "From ARC20\n",
      "class= True\n",
      "studentslist: [1, 2, 3, 4, 5, 6, 7]\n",
      "subjectData: {'Excel': True, 'SQL': True, 'PowerBi': True, 'Python': False, 'DontKnow?': False}\n"
     ]
    }
   ],
   "source": [
    "d3 = {\n",
    "    \"time\" : 7.30,\n",
    "    \"classname\" : \"ARC20\",\n",
    "    \"studentslist\" : [ 1, 2, 3, 4, 5, 6, 7 ],\n",
    "    \"isclass\" : True,\n",
    "    \"subjectData\": {\n",
    "        \"Excel\": True,\n",
    "        \"SQL\" : True,\n",
    "        \"PowerBi\" : True,\n",
    "        \"Python\" : False,\n",
    "        \"DontKnow?\" : False\n",
    "        }}\n",
    "\n",
    "\n",
    "print(\"time=\", d3[\"time\"])\n",
    "print(\"From\", d3[\"classname\"])\n",
    "print(\"class=\", d3[\"isclass\"])\n",
    "print(f\"studentslist: {d3['studentslist']}\")\n",
    "print(f\"subjectData: {d3['subjectData']}\")\n",
    "\n",
    "\n"
   ]
  },
  {
   "cell_type": "code",
   "execution_count": null,
   "id": "3e052a68",
   "metadata": {},
   "outputs": [],
   "source": []
  },
  {
   "cell_type": "code",
   "execution_count": null,
   "id": "3c4be380",
   "metadata": {},
   "outputs": [],
   "source": []
  },
  {
   "cell_type": "markdown",
   "id": "729c205d",
   "metadata": {},
   "source": []
  },
  {
   "cell_type": "code",
   "execution_count": null,
   "id": "816ea28c",
   "metadata": {},
   "outputs": [],
   "source": []
  }
 ],
 "metadata": {
  "kernelspec": {
   "display_name": "Python 3",
   "language": "python",
   "name": "python3"
  },
  "language_info": {
   "codemirror_mode": {
    "name": "ipython",
    "version": 3
   },
   "file_extension": ".py",
   "mimetype": "text/x-python",
   "name": "python",
   "nbconvert_exporter": "python",
   "pygments_lexer": "ipython3",
   "version": "3.13.7"
  }
 },
 "nbformat": 4,
 "nbformat_minor": 5
}
