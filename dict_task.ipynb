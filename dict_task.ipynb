{
 "cells": [
  {
   "cell_type": "markdown",
   "id": "7a0f6f8c",
   "metadata": {},
   "source": [
    "task on the dictionary functions"
   ]
  },
  {
   "cell_type": "code",
   "execution_count": 2,
   "id": "883d94b7",
   "metadata": {},
   "outputs": [
    {
     "name": "stdout",
     "output_type": "stream",
     "text": [
      "ontime : 9:00am to 5:00pm\n",
      "prayerfrom :  10:00am to 10:30am\n",
      "frontof_principal :  Dr. Kondekar sir\n",
      "Present_student_id : [1001, 1002, 1003, 1009, 1123, 1452, 1124]\n",
      "opening :  True\n",
      "isclass_started :  False\n",
      "lectures_data : {'polotics': True, 'Scociology': False, 'History': True, 'Englishliterature': True, 'Geography': False} \n"
     ]
    }
   ],
   "source": [
    "Nutan_college = {\n",
    "    \"time\": \"9:00am to 5:00pm\",\n",
    "    \"prayer\" : \"10:00am to 10:30am\",\n",
    "    \"principal\" : \"Dr. Kondekar sir\",\n",
    "    \"Present_student_id\" : [ 1001, 1002, 1003, 1009,1123,1452,1124],\n",
    "    \"iscollegeopen\" : True,\n",
    "    \"isclass\": False,\n",
    "    \"lectures_data\" : {\n",
    "        \"polotics\" : True,\n",
    "        \"Scociology\" : False,\n",
    "        \"History\" : True,\n",
    "        \"Englishliterature\" : True,\n",
    "        \"Geography\" : False\n",
    "    }\n",
    "}\n",
    "\n",
    "print (\"ontime :\", Nutan_college[\"time\"])\n",
    "print (\"prayerfrom : \", Nutan_college[\"prayer\"])\n",
    "print (\"frontof_principal : \", Nutan_college[\"principal\"])\n",
    "print ( f\"Present_student_id : {Nutan_college[\"Present_student_id\"]}\")\n",
    "print (\"opening : \", Nutan_college[\"iscollegeopen\"])\n",
    "print ( \"isclass_started : \", Nutan_college[\"isclass\"]) \n",
    "print ( f\"lectures_data : { Nutan_college [ \"lectures_data\" ] } \")"
   ]
  },
  {
   "cell_type": "markdown",
   "id": "79e186ce",
   "metadata": {},
   "source": [
    "Details of our Idian Gov. body"
   ]
  },
  {
   "cell_type": "code",
   "execution_count": 17,
   "id": "22983fb4",
   "metadata": {},
   "outputs": [
    {
     "name": "stdout",
     "output_type": "stream",
     "text": [
      "india prime minister :  Narendra Modi\n",
      "bjp's home minister :  Amit Shah\n",
      "defence minister :  Rajnath Singh\n",
      "elected from party :  True\n",
      "other parties : {'congress': False, 'ncp ': False, 'shivsena': False, 'rjd': True, 'bsp': False, 'Shindesena': True}\n"
     ]
    }
   ],
   "source": [
    "\n",
    "G4 = {\n",
    "    \"prime Mininster\" : \"Narendra Modi\",\n",
    "    \"home minister\" : \"Amit Shah\",\n",
    "    \"defence Minister\" : \"Rajnath Singh\",\n",
    "    \"all from bjp\" : True,\n",
    "    \" parties \" : {\n",
    "         \"congress\" : False,\n",
    "         \"ncp \" : False,\n",
    "         \"shivsena\" : False,\n",
    "         \"rjd\" : True,\n",
    "         \"bsp\" : False,\n",
    "         \"Shindesena\" : True,\n",
    "         } }\n",
    "    \n",
    "\n",
    "print (\"india prime minister : \", G4[\"prime Mininster\"])\n",
    "print (\"bjp's home minister : \", G4[\"home minister\"])\n",
    "print (\"defence minister : \", G4[\"defence Minister\" ])\n",
    "print (\"elected from party : \", G4 [\"all from bjp\"])\n",
    "print(f\"other parties : {G4 [\" parties \"] }\")"
   ]
  }
 ],
 "metadata": {
  "kernelspec": {
   "display_name": "Python 3",
   "language": "python",
   "name": "python3"
  },
  "language_info": {
   "codemirror_mode": {
    "name": "ipython",
    "version": 3
   },
   "file_extension": ".py",
   "mimetype": "text/x-python",
   "name": "python",
   "nbconvert_exporter": "python",
   "pygments_lexer": "ipython3",
   "version": "3.13.7"
  }
 },
 "nbformat": 4,
 "nbformat_minor": 5
}
