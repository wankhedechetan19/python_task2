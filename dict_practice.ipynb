{
 "cells": [
  {
   "cell_type": "markdown",
   "id": "de5abe5e",
   "metadata": {},
   "source": [
    "Dictionary function in Python"
   ]
  },
  {
   "cell_type": "code",
   "execution_count": null,
   "id": "0584b444",
   "metadata": {},
   "outputs": [
    {
     "name": "stdout",
     "output_type": "stream",
     "text": [
      "{1: 'ARC-DAxx', 'name': 'Mohan wankhede', 'age': 25}\n",
      "{'name': 'Ramesh', 'age': 45, 'Address': 'Bhiwapur - umred', 'land': '3.6 acres', 'crop': 'soyabean', 'contact': '254545745'}\n",
      "{'name': 'MS Dhoni', 'Age': 42, 'Team_india': 'Captain', 'position ': 'Wicket keeper batsman', ' playing_from': '2004 to 2023'}\n",
      "<class 'dict'>\n",
      "{'collegename': 'nutan adarsh college', 'location': 'umred', 'established': 2008, 'courses': ['BSc', 'BCom', 'BA'], 'principal': 'Dr. Archana chaudhary'}\n",
      "<class 'dict'>\n",
      "{'Librarian': ' ram jadho', 'education': 'mlibar', 'experience': 10, 'contact': '9876543210', 'location': 'ambedakr collony', 'city': 'umred', 'pincode': 441203}\n",
      "{'name': 'mohan wankhede', 'teacher': 'sagar sir', 'course': 'python'}\n"
     ]
    }
   ],
   "source": [
    "student = {\n",
    "    1 :  \"ARC-DAxx\",\n",
    "    \"name\" : \"Mohan wankhede\",\n",
    "    \"age\" : 25 }\n",
    "\n",
    "print(student)\n",
    "\n",
    "Farmers = { \n",
    "    \"name\" : \"Ramesh\",\n",
    "    \"age\" : 45,\n",
    "    \"Address\" : \"Bhiwapur - umred\",\n",
    "    \"land\" : \"3.6 acres\",\n",
    "    \"crop\" : \"soyabean\",\n",
    "    \"contact\" : \"254545745\"\n",
    "}\n",
    "\n",
    "print(Farmers)\n",
    "\n",
    "\n",
    "\n",
    "Crickertor = {\n",
    "    \"name\" : \"MS Dhoni\",\n",
    "    \"Age\" : 42,\n",
    "    \"Team_india\" : \"Captain\",\n",
    "    \"position \" : \"Wicket keeper batsman\",\n",
    "    \" playing_from\" : \"2004 to 2023\"\n",
    "    }\n",
    "\n",
    "print (Crickertor)\n",
    "\n",
    "print (type(Crickertor))\n",
    "\n",
    "\n",
    "#using dict() cusntructor\n",
    "\n",
    "College = dict (collegename = 'nutan adarsh college',\n",
    "                location = 'umred',\n",
    "                established = 2008,\n",
    "                courses = ['BSc','BCom','BA'],\n",
    "                principal = 'Dr. Archana chaudhary')\n",
    "print (College)\n",
    "print (type(College))\n",
    "\n",
    "library = dict (Librarian = ' ram jadho',\n",
    "                education = 'mlibar',\n",
    "                experience = 10,\n",
    "                contact = '9876543210',\n",
    "                location = 'ambedakr collony',\n",
    "                city = 'umred',\n",
    "                pincode = 441203)\n",
    "\n",
    "print (library)\n",
    "\n",
    "#using list of tuples\n",
    "\n",
    "arcinstitute = dict ( \n",
    "     [ ('name', 'mohan wankhede'), ('teacher', 'sagar sir'), ('course', 'python') ]\n",
    ")\n",
    "print (arcinstitute)\n",
    "\n",
    "\n"
   ]
  }
 ],
 "metadata": {
  "kernelspec": {
   "display_name": "Python 3",
   "language": "python",
   "name": "python3"
  },
  "language_info": {
   "codemirror_mode": {
    "name": "ipython",
    "version": 3
   },
   "file_extension": ".py",
   "mimetype": "text/x-python",
   "name": "python",
   "nbconvert_exporter": "python",
   "pygments_lexer": "ipython3",
   "version": "3.13.7"
  }
 },
 "nbformat": 4,
 "nbformat_minor": 5
}
